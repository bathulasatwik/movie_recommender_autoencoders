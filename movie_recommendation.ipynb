{
 "cells": [
  {
   "cell_type": "code",
   "execution_count": 1,
   "id": "a740f055",
   "metadata": {},
   "outputs": [],
   "source": [
    "import numpy as np \n",
    "import pandas as pd \n",
    "import torch \n",
    "import torch.nn as nn\n",
    "import torch.nn.parallel \n",
    "import torch.optim as optim \n",
    "import torch.utils.data\n",
    "from torch.autograd import Variable"
   ]
  },
  {
   "cell_type": "code",
   "execution_count": 2,
   "id": "6b84d5a0",
   "metadata": {},
   "outputs": [],
   "source": [
    "training_set = pd.read_csv('training_set.csv')"
   ]
  },
  {
   "cell_type": "code",
   "execution_count": 3,
   "id": "b90c0c69",
   "metadata": {},
   "outputs": [
    {
     "data": {
      "text/html": [
       "<div>\n",
       "<style scoped>\n",
       "    .dataframe tbody tr th:only-of-type {\n",
       "        vertical-align: middle;\n",
       "    }\n",
       "\n",
       "    .dataframe tbody tr th {\n",
       "        vertical-align: top;\n",
       "    }\n",
       "\n",
       "    .dataframe thead th {\n",
       "        text-align: right;\n",
       "    }\n",
       "</style>\n",
       "<table border=\"1\" class=\"dataframe\">\n",
       "  <thead>\n",
       "    <tr style=\"text-align: right;\">\n",
       "      <th></th>\n",
       "      <th>User</th>\n",
       "      <th>Movie</th>\n",
       "      <th>Rating</th>\n",
       "      <th>Timestamp</th>\n",
       "    </tr>\n",
       "  </thead>\n",
       "  <tbody>\n",
       "    <tr>\n",
       "      <th>0</th>\n",
       "      <td>1</td>\n",
       "      <td>661</td>\n",
       "      <td>3</td>\n",
       "      <td>978302109</td>\n",
       "    </tr>\n",
       "    <tr>\n",
       "      <th>1</th>\n",
       "      <td>1</td>\n",
       "      <td>914</td>\n",
       "      <td>3</td>\n",
       "      <td>978301968</td>\n",
       "    </tr>\n",
       "    <tr>\n",
       "      <th>2</th>\n",
       "      <td>1</td>\n",
       "      <td>3408</td>\n",
       "      <td>4</td>\n",
       "      <td>978300275</td>\n",
       "    </tr>\n",
       "    <tr>\n",
       "      <th>3</th>\n",
       "      <td>1</td>\n",
       "      <td>2355</td>\n",
       "      <td>5</td>\n",
       "      <td>978824291</td>\n",
       "    </tr>\n",
       "    <tr>\n",
       "      <th>4</th>\n",
       "      <td>1</td>\n",
       "      <td>1287</td>\n",
       "      <td>5</td>\n",
       "      <td>978302039</td>\n",
       "    </tr>\n",
       "  </tbody>\n",
       "</table>\n",
       "</div>"
      ],
      "text/plain": [
       "   User  Movie  Rating  Timestamp\n",
       "0     1    661       3  978302109\n",
       "1     1    914       3  978301968\n",
       "2     1   3408       4  978300275\n",
       "3     1   2355       5  978824291\n",
       "4     1   1287       5  978302039"
      ]
     },
     "execution_count": 3,
     "metadata": {},
     "output_type": "execute_result"
    }
   ],
   "source": [
    "training_set.head()"
   ]
  },
  {
   "cell_type": "code",
   "execution_count": 4,
   "id": "a49e8063",
   "metadata": {},
   "outputs": [],
   "source": [
    "test_set = pd.read_csv('test_set.csv')"
   ]
  },
  {
   "cell_type": "code",
   "execution_count": 5,
   "id": "caf7ccaa",
   "metadata": {},
   "outputs": [
    {
     "data": {
      "text/html": [
       "<div>\n",
       "<style scoped>\n",
       "    .dataframe tbody tr th:only-of-type {\n",
       "        vertical-align: middle;\n",
       "    }\n",
       "\n",
       "    .dataframe tbody tr th {\n",
       "        vertical-align: top;\n",
       "    }\n",
       "\n",
       "    .dataframe thead th {\n",
       "        text-align: right;\n",
       "    }\n",
       "</style>\n",
       "<table border=\"1\" class=\"dataframe\">\n",
       "  <thead>\n",
       "    <tr style=\"text-align: right;\">\n",
       "      <th></th>\n",
       "      <th>User</th>\n",
       "      <th>Movie</th>\n",
       "      <th>Rating</th>\n",
       "      <th>Timestamp</th>\n",
       "    </tr>\n",
       "  </thead>\n",
       "  <tbody>\n",
       "    <tr>\n",
       "      <th>0</th>\n",
       "      <td>1</td>\n",
       "      <td>1193</td>\n",
       "      <td>5</td>\n",
       "      <td>978300760</td>\n",
       "    </tr>\n",
       "    <tr>\n",
       "      <th>1</th>\n",
       "      <td>1</td>\n",
       "      <td>1197</td>\n",
       "      <td>3</td>\n",
       "      <td>978302268</td>\n",
       "    </tr>\n",
       "    <tr>\n",
       "      <th>2</th>\n",
       "      <td>1</td>\n",
       "      <td>2804</td>\n",
       "      <td>5</td>\n",
       "      <td>978300719</td>\n",
       "    </tr>\n",
       "    <tr>\n",
       "      <th>3</th>\n",
       "      <td>1</td>\n",
       "      <td>595</td>\n",
       "      <td>5</td>\n",
       "      <td>978824268</td>\n",
       "    </tr>\n",
       "    <tr>\n",
       "      <th>4</th>\n",
       "      <td>1</td>\n",
       "      <td>938</td>\n",
       "      <td>4</td>\n",
       "      <td>978301752</td>\n",
       "    </tr>\n",
       "  </tbody>\n",
       "</table>\n",
       "</div>"
      ],
      "text/plain": [
       "   User  Movie  Rating  Timestamp\n",
       "0     1   1193       5  978300760\n",
       "1     1   1197       3  978302268\n",
       "2     1   2804       5  978300719\n",
       "3     1    595       5  978824268\n",
       "4     1    938       4  978301752"
      ]
     },
     "execution_count": 5,
     "metadata": {},
     "output_type": "execute_result"
    }
   ],
   "source": [
    "test_set.head()"
   ]
  },
  {
   "cell_type": "code",
   "execution_count": 6,
   "id": "db1f4710",
   "metadata": {},
   "outputs": [],
   "source": [
    "import seaborn as sns"
   ]
  },
  {
   "cell_type": "code",
   "execution_count": 7,
   "id": "e704b24e",
   "metadata": {},
   "outputs": [],
   "source": [
    "movies = pd.read_csv('ml-1m/ml-1m/movies.dat', sep = '::', header = None, engine = 'python', encoding = 'latin-1')"
   ]
  },
  {
   "cell_type": "code",
   "execution_count": 8,
   "id": "04451f62",
   "metadata": {},
   "outputs": [],
   "source": [
    "users = pd.read_csv('ml-1m/ml-1m/users.dat', sep = '::', header = None, engine = 'python', encoding = 'latin-1')"
   ]
  },
  {
   "cell_type": "code",
   "execution_count": 9,
   "id": "4bb3ee80",
   "metadata": {},
   "outputs": [
    {
     "data": {
      "text/html": [
       "<div>\n",
       "<style scoped>\n",
       "    .dataframe tbody tr th:only-of-type {\n",
       "        vertical-align: middle;\n",
       "    }\n",
       "\n",
       "    .dataframe tbody tr th {\n",
       "        vertical-align: top;\n",
       "    }\n",
       "\n",
       "    .dataframe thead th {\n",
       "        text-align: right;\n",
       "    }\n",
       "</style>\n",
       "<table border=\"1\" class=\"dataframe\">\n",
       "  <thead>\n",
       "    <tr style=\"text-align: right;\">\n",
       "      <th></th>\n",
       "      <th>0</th>\n",
       "      <th>1</th>\n",
       "      <th>2</th>\n",
       "      <th>3</th>\n",
       "      <th>4</th>\n",
       "    </tr>\n",
       "  </thead>\n",
       "  <tbody>\n",
       "    <tr>\n",
       "      <th>0</th>\n",
       "      <td>1</td>\n",
       "      <td>F</td>\n",
       "      <td>1</td>\n",
       "      <td>10</td>\n",
       "      <td>48067</td>\n",
       "    </tr>\n",
       "    <tr>\n",
       "      <th>1</th>\n",
       "      <td>2</td>\n",
       "      <td>M</td>\n",
       "      <td>56</td>\n",
       "      <td>16</td>\n",
       "      <td>70072</td>\n",
       "    </tr>\n",
       "    <tr>\n",
       "      <th>2</th>\n",
       "      <td>3</td>\n",
       "      <td>M</td>\n",
       "      <td>25</td>\n",
       "      <td>15</td>\n",
       "      <td>55117</td>\n",
       "    </tr>\n",
       "    <tr>\n",
       "      <th>3</th>\n",
       "      <td>4</td>\n",
       "      <td>M</td>\n",
       "      <td>45</td>\n",
       "      <td>7</td>\n",
       "      <td>02460</td>\n",
       "    </tr>\n",
       "    <tr>\n",
       "      <th>4</th>\n",
       "      <td>5</td>\n",
       "      <td>M</td>\n",
       "      <td>25</td>\n",
       "      <td>20</td>\n",
       "      <td>55455</td>\n",
       "    </tr>\n",
       "  </tbody>\n",
       "</table>\n",
       "</div>"
      ],
      "text/plain": [
       "   0  1   2   3      4\n",
       "0  1  F   1  10  48067\n",
       "1  2  M  56  16  70072\n",
       "2  3  M  25  15  55117\n",
       "3  4  M  45   7  02460\n",
       "4  5  M  25  20  55455"
      ]
     },
     "execution_count": 9,
     "metadata": {},
     "output_type": "execute_result"
    }
   ],
   "source": [
    "users.head()"
   ]
  },
  {
   "cell_type": "code",
   "execution_count": 10,
   "id": "86cdce41",
   "metadata": {},
   "outputs": [],
   "source": [
    "ratings = pd.read_csv('ml-1m/ml-1m/ratings.dat', sep = '::', header = None, engine = 'python', encoding = 'latin-1')"
   ]
  },
  {
   "cell_type": "code",
   "execution_count": 11,
   "id": "b8ff31f5",
   "metadata": {},
   "outputs": [
    {
     "data": {
      "text/html": [
       "<div>\n",
       "<style scoped>\n",
       "    .dataframe tbody tr th:only-of-type {\n",
       "        vertical-align: middle;\n",
       "    }\n",
       "\n",
       "    .dataframe tbody tr th {\n",
       "        vertical-align: top;\n",
       "    }\n",
       "\n",
       "    .dataframe thead th {\n",
       "        text-align: right;\n",
       "    }\n",
       "</style>\n",
       "<table border=\"1\" class=\"dataframe\">\n",
       "  <thead>\n",
       "    <tr style=\"text-align: right;\">\n",
       "      <th></th>\n",
       "      <th>0</th>\n",
       "      <th>1</th>\n",
       "      <th>2</th>\n",
       "      <th>3</th>\n",
       "    </tr>\n",
       "  </thead>\n",
       "  <tbody>\n",
       "    <tr>\n",
       "      <th>0</th>\n",
       "      <td>1</td>\n",
       "      <td>1193</td>\n",
       "      <td>5</td>\n",
       "      <td>978300760</td>\n",
       "    </tr>\n",
       "    <tr>\n",
       "      <th>1</th>\n",
       "      <td>1</td>\n",
       "      <td>661</td>\n",
       "      <td>3</td>\n",
       "      <td>978302109</td>\n",
       "    </tr>\n",
       "    <tr>\n",
       "      <th>2</th>\n",
       "      <td>1</td>\n",
       "      <td>914</td>\n",
       "      <td>3</td>\n",
       "      <td>978301968</td>\n",
       "    </tr>\n",
       "    <tr>\n",
       "      <th>3</th>\n",
       "      <td>1</td>\n",
       "      <td>3408</td>\n",
       "      <td>4</td>\n",
       "      <td>978300275</td>\n",
       "    </tr>\n",
       "    <tr>\n",
       "      <th>4</th>\n",
       "      <td>1</td>\n",
       "      <td>2355</td>\n",
       "      <td>5</td>\n",
       "      <td>978824291</td>\n",
       "    </tr>\n",
       "  </tbody>\n",
       "</table>\n",
       "</div>"
      ],
      "text/plain": [
       "   0     1  2          3\n",
       "0  1  1193  5  978300760\n",
       "1  1   661  3  978302109\n",
       "2  1   914  3  978301968\n",
       "3  1  3408  4  978300275\n",
       "4  1  2355  5  978824291"
      ]
     },
     "execution_count": 11,
     "metadata": {},
     "output_type": "execute_result"
    }
   ],
   "source": [
    "ratings.head()"
   ]
  },
  {
   "cell_type": "code",
   "execution_count": 12,
   "id": "1cee52b7",
   "metadata": {},
   "outputs": [
    {
     "data": {
      "text/html": [
       "<div>\n",
       "<style scoped>\n",
       "    .dataframe tbody tr th:only-of-type {\n",
       "        vertical-align: middle;\n",
       "    }\n",
       "\n",
       "    .dataframe tbody tr th {\n",
       "        vertical-align: top;\n",
       "    }\n",
       "\n",
       "    .dataframe thead th {\n",
       "        text-align: right;\n",
       "    }\n",
       "</style>\n",
       "<table border=\"1\" class=\"dataframe\">\n",
       "  <thead>\n",
       "    <tr style=\"text-align: right;\">\n",
       "      <th></th>\n",
       "      <th>0</th>\n",
       "      <th>1</th>\n",
       "      <th>2</th>\n",
       "    </tr>\n",
       "  </thead>\n",
       "  <tbody>\n",
       "    <tr>\n",
       "      <th>353</th>\n",
       "      <td>357</td>\n",
       "      <td>Four Weddings and a Funeral (1994)</td>\n",
       "      <td>Comedy|Romance</td>\n",
       "    </tr>\n",
       "  </tbody>\n",
       "</table>\n",
       "</div>"
      ],
      "text/plain": [
       "       0                                   1               2\n",
       "353  357  Four Weddings and a Funeral (1994)  Comedy|Romance"
      ]
     },
     "execution_count": 12,
     "metadata": {},
     "output_type": "execute_result"
    }
   ],
   "source": [
    "movies[movies[0]==357]"
   ]
  },
  {
   "cell_type": "code",
   "execution_count": 13,
   "id": "6b63c06e",
   "metadata": {},
   "outputs": [],
   "source": [
    "training_set = np.array(training_set, dtype = 'int')"
   ]
  },
  {
   "cell_type": "code",
   "execution_count": 14,
   "id": "d304ca05",
   "metadata": {},
   "outputs": [
    {
     "data": {
      "text/plain": [
       "array([[        1,       661,         3, 978302109],\n",
       "       [        1,       914,         3, 978301968],\n",
       "       [        1,      3408,         4, 978300275],\n",
       "       ...,\n",
       "       [     6040,       562,         5, 956704746],\n",
       "       [     6040,      1096,         4, 956715648],\n",
       "       [     6040,      1097,         4, 956715569]])"
      ]
     },
     "execution_count": 14,
     "metadata": {},
     "output_type": "execute_result"
    }
   ],
   "source": [
    "training_set"
   ]
  },
  {
   "cell_type": "code",
   "execution_count": 15,
   "id": "06075e84",
   "metadata": {},
   "outputs": [],
   "source": [
    "test_set = np.array(test_set, dtype = 'int')"
   ]
  },
  {
   "cell_type": "code",
   "execution_count": 16,
   "id": "d4aed2b7",
   "metadata": {},
   "outputs": [
    {
     "data": {
      "text/plain": [
       "array([[        1,      1193,         5, 978300760],\n",
       "       [        1,      1197,         3, 978302268],\n",
       "       [        1,      2804,         5, 978300719],\n",
       "       ...,\n",
       "       [     6040,       527,         5, 956704219],\n",
       "       [     6040,      2003,         1, 956716294],\n",
       "       [     6040,       535,         4, 964828734]])"
      ]
     },
     "execution_count": 16,
     "metadata": {},
     "output_type": "execute_result"
    }
   ],
   "source": [
    "test_set"
   ]
  },
  {
   "cell_type": "code",
   "execution_count": 17,
   "id": "7bb15339",
   "metadata": {},
   "outputs": [],
   "source": [
    "nb_users = int(max(max(training_set[:,0]),max(test_set[:,0])))"
   ]
  },
  {
   "cell_type": "code",
   "execution_count": 18,
   "id": "19c753f4",
   "metadata": {},
   "outputs": [
    {
     "data": {
      "text/plain": [
       "6040"
      ]
     },
     "execution_count": 18,
     "metadata": {},
     "output_type": "execute_result"
    }
   ],
   "source": [
    "nb_users"
   ]
  },
  {
   "cell_type": "code",
   "execution_count": 19,
   "id": "e63ebeb5",
   "metadata": {},
   "outputs": [],
   "source": [
    "nb_movies = int(max(max(training_set[:,1]),max(test_set[:,1])))"
   ]
  },
  {
   "cell_type": "code",
   "execution_count": 20,
   "id": "c0e8d5ca",
   "metadata": {},
   "outputs": [
    {
     "data": {
      "text/plain": [
       "3952"
      ]
     },
     "execution_count": 20,
     "metadata": {},
     "output_type": "execute_result"
    }
   ],
   "source": [
    "nb_movies"
   ]
  },
  {
   "cell_type": "code",
   "execution_count": 21,
   "id": "53207f58",
   "metadata": {},
   "outputs": [
    {
     "data": {
      "text/plain": [
       "array([ 661,  914, 3408, 2355, 1287,  594,  919, 2918, 1035, 2791, 2687,\n",
       "       2018, 3105,  720, 1270,  527, 2340,   48, 1097, 1721, 1545,  745,\n",
       "       2294, 3186, 1566,  588, 1907, 1836, 1022,  150,    1, 1961, 2692,\n",
       "       1028, 1029, 1207, 2028, 3114,  608, 1246])"
      ]
     },
     "execution_count": 21,
     "metadata": {},
     "output_type": "execute_result"
    }
   ],
   "source": [
    "id_movies = training_set[:,1][training_set[:,0]==1]\n",
    "id_movies"
   ]
  },
  {
   "cell_type": "code",
   "execution_count": 22,
   "id": "98f8dddc",
   "metadata": {},
   "outputs": [],
   "source": [
    "def convert(data):\n",
    "    new_data = []\n",
    "    for id_users in range(1,nb_users+1):\n",
    "        id_movies = data[:,1][data[:,0]==id_users]\n",
    "        id_ratings = data[:,2][data[:,0]==id_users]\n",
    "        ratings = np.zeros(nb_movies)\n",
    "        ratings[id_movies-1] = id_ratings\n",
    "        new_data.append(list(ratings))\n",
    "    return new_data\n"
   ]
  },
  {
   "cell_type": "code",
   "execution_count": 23,
   "id": "0765c026",
   "metadata": {},
   "outputs": [],
   "source": [
    "training_set = convert(training_set)"
   ]
  },
  {
   "cell_type": "code",
   "execution_count": 24,
   "id": "4575a1b2",
   "metadata": {},
   "outputs": [],
   "source": [
    "test_set = convert(test_set)"
   ]
  },
  {
   "cell_type": "code",
   "execution_count": 25,
   "id": "73f97f6f",
   "metadata": {},
   "outputs": [
    {
     "data": {
      "text/plain": [
       "3952"
      ]
     },
     "execution_count": 25,
     "metadata": {},
     "output_type": "execute_result"
    }
   ],
   "source": [
    "len(training_set[0])"
   ]
  },
  {
   "cell_type": "code",
   "execution_count": 26,
   "id": "03579f7f",
   "metadata": {},
   "outputs": [
    {
     "data": {
      "text/plain": [
       "6040"
      ]
     },
     "execution_count": 26,
     "metadata": {},
     "output_type": "execute_result"
    }
   ],
   "source": [
    "len(training_set)"
   ]
  },
  {
   "cell_type": "code",
   "execution_count": 27,
   "id": "7e4b2198",
   "metadata": {},
   "outputs": [],
   "source": [
    " training_set = torch.FloatTensor(training_set)"
   ]
  },
  {
   "cell_type": "code",
   "execution_count": 28,
   "id": "2ebd0fd0",
   "metadata": {},
   "outputs": [],
   "source": [
    " test_set = torch.FloatTensor(test_set)"
   ]
  },
  {
   "cell_type": "code",
   "execution_count": 29,
   "id": "d065c64b",
   "metadata": {},
   "outputs": [
    {
     "data": {
      "text/plain": [
       "tensor([[5., 0., 0.,  ..., 0., 0., 0.],\n",
       "        [0., 0., 0.,  ..., 0., 0., 0.],\n",
       "        [0., 0., 0.,  ..., 0., 0., 0.],\n",
       "        ...,\n",
       "        [0., 0., 0.,  ..., 0., 0., 0.],\n",
       "        [0., 0., 0.,  ..., 0., 0., 0.],\n",
       "        [3., 0., 0.,  ..., 0., 0., 0.]])"
      ]
     },
     "execution_count": 29,
     "metadata": {},
     "output_type": "execute_result"
    }
   ],
   "source": [
    "training_set"
   ]
  },
  {
   "cell_type": "code",
   "execution_count": 30,
   "id": "779e2ef6",
   "metadata": {},
   "outputs": [
    {
     "data": {
      "text/plain": [
       "tensor([[0., 0., 0.,  ..., 0., 0., 0.],\n",
       "        [0., 0., 0.,  ..., 0., 0., 0.],\n",
       "        [0., 0., 0.,  ..., 0., 0., 0.],\n",
       "        ...,\n",
       "        [0., 0., 0.,  ..., 0., 0., 0.],\n",
       "        [0., 0., 0.,  ..., 0., 0., 0.],\n",
       "        [0., 0., 0.,  ..., 0., 0., 0.]])"
      ]
     },
     "execution_count": 30,
     "metadata": {},
     "output_type": "execute_result"
    }
   ],
   "source": [
    "test_set"
   ]
  },
  {
   "cell_type": "code",
   "execution_count": 31,
   "id": "e24a1d34",
   "metadata": {},
   "outputs": [],
   "source": [
    "class SAE(nn.Module):\n",
    "    def __init__(self, ):\n",
    "        super(SAE,self).__init__()\n",
    "        self.fc1 = nn.Linear(nb_movies,20)\n",
    "        self.fc2 = nn.Linear(20,10)\n",
    "        self.fc3 = nn.Linear(10,20)\n",
    "        self.fc4 = nn.Linear(20,nb_movies)\n",
    "        self.activation = nn.Sigmoid()\n",
    "    def forward(self,x):\n",
    "        x=self.activation(self.fc1(x))\n",
    "        x=self.activation(self.fc2(x))\n",
    "        x=self.activation(self.fc3(x))\n",
    "        x=self.fc4(x)\n",
    "        return x\n",
    "    \n",
    "sae = SAE()\n",
    "criterion = nn.MSELoss()\n",
    "optimizer = optim.RMSprop(sae.parameters(), lr = 0.01, weight_decay = 0.5)\n",
    "    \n",
    "        "
   ]
  },
  {
   "cell_type": "code",
   "execution_count": 32,
   "id": "1526ea67",
   "metadata": {},
   "outputs": [],
   "source": [
    "nb_epochs = 200"
   ]
  },
  {
   "cell_type": "code",
   "execution_count": 33,
   "id": "477a9eec",
   "metadata": {},
   "outputs": [
    {
     "name": "stdout",
     "output_type": "stream",
     "text": [
      "epoch : 1loss: 1.3478086477607272\n",
      "epoch : 2loss: 1.0099722382425138\n",
      "epoch : 3loss: 0.989965574088563\n",
      "epoch : 4loss: 0.9832631817745073\n",
      "epoch : 5loss: 0.9801505619759615\n",
      "epoch : 6loss: 0.9783678935924842\n",
      "epoch : 7loss: 0.9773657703478474\n",
      "epoch : 8loss: 0.9765357378747919\n",
      "epoch : 9loss: 0.9759378646957357\n",
      "epoch : 10loss: 0.9754782408866515\n",
      "epoch : 11loss: 0.9753469568286042\n",
      "epoch : 12loss: 0.9748521926096132\n",
      "epoch : 13loss: 0.9747134685509039\n",
      "epoch : 14loss: 0.9746140776221671\n",
      "epoch : 15loss: 0.9744869989291467\n",
      "epoch : 16loss: 0.9742890532216576\n",
      "epoch : 17loss: 0.9742294160331261\n",
      "epoch : 18loss: 0.9740309084293539\n",
      "epoch : 19loss: 0.974026320116927\n",
      "epoch : 20loss: 0.9738597710773592\n",
      "epoch : 21loss: 0.9737657226018885\n",
      "epoch : 22loss: 0.9737042983773742\n",
      "epoch : 23loss: 0.9735370076313347\n",
      "epoch : 24loss: 0.9732751950371644\n",
      "epoch : 25loss: 0.9727709354932378\n",
      "epoch : 26loss: 0.9721188872530531\n",
      "epoch : 27loss: 0.9713210615727462\n",
      "epoch : 28loss: 0.9704315196316684\n",
      "epoch : 29loss: 0.9695356633606087\n",
      "epoch : 30loss: 0.9698899817430348\n",
      "epoch : 31loss: 0.9686879472445863\n",
      "epoch : 32loss: 0.9675006667514404\n",
      "epoch : 33loss: 0.9667958245667394\n",
      "epoch : 34loss: 0.9652160422856241\n",
      "epoch : 35loss: 0.9643067237213859\n",
      "epoch : 36loss: 0.964122932428009\n",
      "epoch : 37loss: 0.9638686671587492\n",
      "epoch : 38loss: 0.9627414332215627\n",
      "epoch : 39loss: 0.9626118834445853\n",
      "epoch : 40loss: 0.959974983719597\n",
      "epoch : 41loss: 0.9599610880587969\n",
      "epoch : 42loss: 0.9616224725626525\n",
      "epoch : 43loss: 0.9598076815979146\n",
      "epoch : 44loss: 0.9571647085646542\n",
      "epoch : 45loss: 0.9553844547543905\n",
      "epoch : 46loss: 0.9532724284584136\n",
      "epoch : 47loss: 0.9509286662290102\n",
      "epoch : 48loss: 0.9491006203732584\n",
      "epoch : 49loss: 0.9472363727186529\n",
      "epoch : 50loss: 0.9481357669750217\n",
      "epoch : 51loss: 0.9493121059366132\n",
      "epoch : 52loss: 0.9449369446555326\n",
      "epoch : 53loss: 0.9460559823099581\n",
      "epoch : 54loss: 0.9431023295422403\n",
      "epoch : 55loss: 0.9419911872677118\n",
      "epoch : 56loss: 0.9392421169912194\n",
      "epoch : 57loss: 0.9360384780615902\n",
      "epoch : 58loss: 0.9333615857811616\n",
      "epoch : 59loss: 0.9370937608713069\n",
      "epoch : 60loss: 0.9355643040280717\n",
      "epoch : 61loss: 0.9320339047592572\n",
      "epoch : 62loss: 0.9336274159840744\n",
      "epoch : 63loss: 0.9292685400635562\n",
      "epoch : 64loss: 0.9274424233490575\n",
      "epoch : 65loss: 0.9284368199141394\n",
      "epoch : 66loss: 0.9262379125072258\n",
      "epoch : 67loss: 0.9223850642840108\n",
      "epoch : 68loss: 0.9250516476624412\n",
      "epoch : 69loss: 0.9241255379198523\n",
      "epoch : 70loss: 0.9244707044644415\n",
      "epoch : 71loss: 0.9248335597936251\n",
      "epoch : 72loss: 0.9226671093101689\n",
      "epoch : 73loss: 0.9197122150710394\n",
      "epoch : 74loss: 0.9257980807783464\n",
      "epoch : 75loss: 0.9215460057297018\n",
      "epoch : 76loss: 0.9167470656256651\n",
      "epoch : 77loss: 0.915510916629194\n",
      "epoch : 78loss: 0.9145749535403912\n",
      "epoch : 79loss: 0.9165457073510924\n",
      "epoch : 80loss: 0.9146729933182517\n",
      "epoch : 81loss: 0.9162943927115635\n",
      "epoch : 82loss: 0.9132621420169754\n",
      "epoch : 83loss: 0.9151364489501121\n",
      "epoch : 84loss: 0.9160641651076661\n",
      "epoch : 85loss: 0.911754278299945\n",
      "epoch : 86loss: 0.9101940131193964\n",
      "epoch : 87loss: 0.9116084266327349\n",
      "epoch : 88loss: 0.9110688459759972\n",
      "epoch : 89loss: 0.9096857009925066\n",
      "epoch : 90loss: 0.9114934450955097\n",
      "epoch : 91loss: 0.9085003383676037\n",
      "epoch : 92loss: 0.9077476027848028\n",
      "epoch : 93loss: 0.906776648754312\n",
      "epoch : 94loss: 0.9078258981514771\n",
      "epoch : 95loss: 0.9070595395028144\n",
      "epoch : 96loss: 0.9049033332403614\n",
      "epoch : 97loss: 0.9066703899347581\n",
      "epoch : 98loss: 0.9064692558807782\n",
      "epoch : 99loss: 0.9037720984457276\n",
      "epoch : 100loss: 0.9039337979283537\n",
      "epoch : 101loss: 0.9046094601925762\n",
      "epoch : 102loss: 0.9028424294693133\n",
      "epoch : 103loss: 0.9032358117730966\n",
      "epoch : 104loss: 0.9042254943730427\n",
      "epoch : 105loss: 0.9026816974624023\n",
      "epoch : 106loss: 0.902438915534806\n",
      "epoch : 107loss: 0.9031720986388349\n",
      "epoch : 108loss: 0.9028109126489174\n",
      "epoch : 109loss: 0.9011173021043641\n",
      "epoch : 110loss: 0.9008567854847933\n",
      "epoch : 111loss: 0.9006144053953754\n",
      "epoch : 112loss: 0.899715088774431\n",
      "epoch : 113loss: 0.9008265458422459\n",
      "epoch : 114loss: 0.9006869896330181\n",
      "epoch : 115loss: 0.9003131081149504\n",
      "epoch : 116loss: 0.899003215078796\n",
      "epoch : 117loss: 0.8987723811482542\n",
      "epoch : 118loss: 0.8985585355121054\n",
      "epoch : 119loss: 0.8984528770104181\n",
      "epoch : 120loss: 0.8982368557540634\n",
      "epoch : 121loss: 0.8988926038151686\n",
      "epoch : 122loss: 0.9004991141932384\n",
      "epoch : 123loss: 0.8992426838601777\n",
      "epoch : 124loss: 0.8982153634741324\n",
      "epoch : 125loss: 0.8995622741072199\n",
      "epoch : 126loss: 0.8995418077123185\n",
      "epoch : 127loss: 0.8985981005333757\n",
      "epoch : 128loss: 0.8973863188369796\n",
      "epoch : 129loss: 0.8969987554509418\n",
      "epoch : 130loss: 0.8967283526086113\n",
      "epoch : 131loss: 0.8966781455423701\n",
      "epoch : 132loss: 0.8969932420426694\n",
      "epoch : 133loss: 0.8965002414291813\n",
      "epoch : 134loss: 0.8964637668120156\n",
      "epoch : 135loss: 0.8963087590719534\n",
      "epoch : 136loss: 0.8967317209671425\n",
      "epoch : 137loss: 0.8969138838865227\n",
      "epoch : 138loss: 0.8972767710148639\n",
      "epoch : 139loss: 0.8967910586212091\n",
      "epoch : 140loss: 0.8970726020121771\n",
      "epoch : 141loss: 0.8961236016678168\n",
      "epoch : 142loss: 0.8961896902906943\n",
      "epoch : 143loss: 0.8958494894491913\n",
      "epoch : 144loss: 0.8953855569662496\n",
      "epoch : 145loss: 0.8965368773921892\n",
      "epoch : 146loss: 0.8954755035791505\n",
      "epoch : 147loss: 0.8949839742782787\n",
      "epoch : 148loss: 0.8951240975067961\n",
      "epoch : 149loss: 0.8958524520938689\n",
      "epoch : 150loss: 0.8960125002393174\n",
      "epoch : 151loss: 0.8949458992498925\n",
      "epoch : 152loss: 0.8949917331200785\n",
      "epoch : 153loss: 0.8952788867084418\n",
      "epoch : 154loss: 0.8946131878913659\n",
      "epoch : 155loss: 0.8941963151561506\n",
      "epoch : 156loss: 0.8945760219818856\n",
      "epoch : 157loss: 0.8940491418305727\n",
      "epoch : 158loss: 0.8942731547715789\n",
      "epoch : 159loss: 0.8940041211132094\n",
      "epoch : 160loss: 0.8940058519610804\n",
      "epoch : 161loss: 0.8940241683553093\n",
      "epoch : 162loss: 0.8937458451915725\n",
      "epoch : 163loss: 0.894434459471507\n",
      "epoch : 164loss: 0.8936910342724074\n",
      "epoch : 165loss: 0.8935601456369067\n",
      "epoch : 166loss: 0.8933151480615492\n",
      "epoch : 167loss: 0.8937962265180192\n",
      "epoch : 168loss: 0.8934042940516932\n",
      "epoch : 169loss: 0.8934506381983439\n",
      "epoch : 170loss: 0.8937769346299542\n",
      "epoch : 171loss: 0.8935356707719064\n",
      "epoch : 172loss: 0.8931426470864757\n",
      "epoch : 173loss: 0.8929518644292792\n",
      "epoch : 174loss: 0.8926759603475413\n",
      "epoch : 175loss: 0.8929930285603064\n",
      "epoch : 176loss: 0.8927838292681735\n",
      "epoch : 177loss: 0.8925343388590533\n",
      "epoch : 178loss: 0.8927539583072648\n",
      "epoch : 179loss: 0.8927711153732988\n",
      "epoch : 180loss: 0.8924165062507032\n",
      "epoch : 181loss: 0.8928783112987684\n",
      "epoch : 182loss: 0.8926875252087392\n",
      "epoch : 183loss: 0.892315503114635\n",
      "epoch : 184loss: 0.8920729782447493\n",
      "epoch : 185loss: 0.8922596298818953\n",
      "epoch : 186loss: 0.8921814067042878\n",
      "epoch : 187loss: 0.8920025343894745\n",
      "epoch : 188loss: 0.8919163551517295\n",
      "epoch : 189loss: 0.8924247750685113\n",
      "epoch : 190loss: 0.8925716365808671\n",
      "epoch : 191loss: 0.8922069682166422\n",
      "epoch : 192loss: 0.8918971488736624\n",
      "epoch : 193loss: 0.8917793244445682\n",
      "epoch : 194loss: 0.8915125411555749\n",
      "epoch : 195loss: 0.8919289310687085\n",
      "epoch : 196loss: 0.8920951661810271\n",
      "epoch : 197loss: 0.8918668489669866\n",
      "epoch : 198loss: 0.8914225676837707\n",
      "epoch : 199loss: 0.892660411083643\n",
      "epoch : 200loss: 0.8930712530976362\n"
     ]
    }
   ],
   "source": [
    "for epoch in range(1,nb_epochs+1):\n",
    "    train_loss = 0\n",
    "    s = 0.\n",
    "    for id_user in range(nb_users):\n",
    "        input = Variable(training_set[id_user]).unsqueeze(0)\n",
    "        target = input.clone()\n",
    "        if torch.sum(target.data > 0) > 0:\n",
    "            output = sae(input)\n",
    "            target.require_grad = False\n",
    "            output[target == 0] = 0\n",
    "            loss = criterion(output, target)\n",
    "            mean_corrector = nb_movies/float(torch.sum(target.data > 0 )+ 1e-10)\n",
    "            loss.backward() #decided the direction of update\n",
    "            train_loss += np.sqrt(loss.item()*mean_corrector)\n",
    "            s += 1. \n",
    "            optimizer.step()  #decides the intensity of update\n",
    "    print('epoch : '+str(epoch)+'loss: '+str(train_loss/s))\n",
    "            \n",
    "    \n",
    "    "
   ]
  },
  {
   "cell_type": "code",
   "execution_count": 34,
   "id": "1323e306",
   "metadata": {},
   "outputs": [
    {
     "data": {
      "text/plain": [
       "torch.Size([3952])"
      ]
     },
     "execution_count": 34,
     "metadata": {},
     "output_type": "execute_result"
    }
   ],
   "source": [
    "training_set[0].shape"
   ]
  },
  {
   "cell_type": "code",
   "execution_count": 35,
   "id": "2e4365ae",
   "metadata": {},
   "outputs": [
    {
     "data": {
      "text/plain": [
       "torch.Size([1, 3952])"
      ]
     },
     "execution_count": 35,
     "metadata": {},
     "output_type": "execute_result"
    }
   ],
   "source": [
    "(Variable(training_set[0]).unsqueeze(0)).shape"
   ]
  },
  {
   "cell_type": "code",
   "execution_count": 36,
   "id": "c7642059",
   "metadata": {},
   "outputs": [
    {
     "data": {
      "text/plain": [
       "tensor(40)"
      ]
     },
     "execution_count": 36,
     "metadata": {},
     "output_type": "execute_result"
    }
   ],
   "source": [
    "torch.sum(training_set[0].data > 0 )"
   ]
  },
  {
   "cell_type": "code",
   "execution_count": 38,
   "id": "408236e1",
   "metadata": {},
   "outputs": [
    {
     "data": {
      "text/plain": [
       "torch.Size([6040, 3952])"
      ]
     },
     "execution_count": 38,
     "metadata": {},
     "output_type": "execute_result"
    }
   ],
   "source": [
    "training_set.shape"
   ]
  },
  {
   "cell_type": "code",
   "execution_count": 39,
   "id": "69db9025",
   "metadata": {},
   "outputs": [
    {
     "data": {
      "text/plain": [
       "torch.Size([6040, 3952])"
      ]
     },
     "execution_count": 39,
     "metadata": {},
     "output_type": "execute_result"
    }
   ],
   "source": [
    "test_set.shape"
   ]
  },
  {
   "cell_type": "code",
   "execution_count": 51,
   "id": "41da5a40",
   "metadata": {},
   "outputs": [
    {
     "name": "stderr",
     "output_type": "stream",
     "text": [
      "C:\\Users\\bathu\\anaconda3\\lib\\site-packages\\torch\\nn\\modules\\loss.py:530: UserWarning: Using a target size (torch.Size([3952])) that is different to the input size (torch.Size([1, 3952])). This will likely lead to incorrect results due to broadcasting. Please ensure they have the same size.\n",
      "  return F.mse_loss(input, target, reduction=self.reduction)\n"
     ]
    },
    {
     "name": "stdout",
     "output_type": "stream",
     "text": [
      "test loss: 0.912290756977653\n"
     ]
    }
   ],
   "source": [
    "test_loss = 0\n",
    "s = 0.\n",
    "for id_user in range(nb_users):\n",
    "    input = Variable(training_set[id_user]).unsqueeze(0)\n",
    "    target = Variable(test_set[id_user])\n",
    "    if torch.sum(target.data > 0) > 0:\n",
    "        output = sae(input)\n",
    "        target.require_grad = False\n",
    "        output[target.view(1, -1) == 0] = 0\n",
    "        loss = criterion(output, target)\n",
    "        mean_corrector = nb_movies/float(torch.sum(target.data > 0 )+ 1e-10)\n",
    "        test_loss += np.sqrt(loss.item()*mean_corrector)\n",
    "        s += 1. \n",
    "          \n",
    "print('test loss: '+str(test_loss/s))\n",
    "            "
   ]
  },
  {
   "cell_type": "code",
   "execution_count": 43,
   "id": "46c81e81",
   "metadata": {},
   "outputs": [],
   "source": [
    "t = Variable(test_set[id_user])"
   ]
  },
  {
   "cell_type": "code",
   "execution_count": 47,
   "id": "05839dfe",
   "metadata": {},
   "outputs": [
    {
     "data": {
      "text/plain": [
       "3952"
      ]
     },
     "execution_count": 47,
     "metadata": {},
     "output_type": "execute_result"
    }
   ],
   "source": [
    "len(t)"
   ]
  },
  {
   "cell_type": "code",
   "execution_count": 54,
   "id": "c5c27cce",
   "metadata": {},
   "outputs": [
    {
     "data": {
      "text/plain": [
       "tensor([[0., 0., 0.,  ..., 0., 0., 0.],\n",
       "        [0., 0., 0.,  ..., 0., 0., 0.],\n",
       "        [0., 0., 0.,  ..., 0., 0., 0.],\n",
       "        ...,\n",
       "        [0., 0., 0.,  ..., 0., 0., 0.],\n",
       "        [0., 0., 0.,  ..., 0., 0., 0.],\n",
       "        [0., 0., 0.,  ..., 0., 0., 0.]])"
      ]
     },
     "execution_count": 54,
     "metadata": {},
     "output_type": "execute_result"
    }
   ],
   "source": [
    "test_set"
   ]
  },
  {
   "cell_type": "code",
   "execution_count": null,
   "id": "c7e8940d",
   "metadata": {},
   "outputs": [],
   "source": []
  }
 ],
 "metadata": {
  "kernelspec": {
   "display_name": "Python 3 (ipykernel)",
   "language": "python",
   "name": "python3"
  },
  "language_info": {
   "codemirror_mode": {
    "name": "ipython",
    "version": 3
   },
   "file_extension": ".py",
   "mimetype": "text/x-python",
   "name": "python",
   "nbconvert_exporter": "python",
   "pygments_lexer": "ipython3",
   "version": "3.10.9"
  }
 },
 "nbformat": 4,
 "nbformat_minor": 5
}
